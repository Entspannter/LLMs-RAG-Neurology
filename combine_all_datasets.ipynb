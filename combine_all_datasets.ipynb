{
 "cells": [
  {
   "cell_type": "code",
   "execution_count": null,
   "metadata": {},
   "outputs": [],
   "source": [
    "import pandas as pd\n",
    "import numpy as np\n",
    "\n"
   ]
  },
  {
   "cell_type": "code",
   "execution_count": null,
   "metadata": {},
   "outputs": [],
   "source": [
    "# load all datasets and, if necessary, add the column 'halluzination' to the questions\n",
    "gpt4omini = pd.read_excel(\"Results/GPT4omini_RAW.xlsx\")\n",
    "gpt4 = pd.read_excel(\"Results/GPT4_RAW.xlsx\")\n",
    "gpt4o = pd.read_excel(\"Results/GPT4o_RAW.xlsx\")\n",
    "llama = pd.read_excel(\"Results/LLaMA3_RAW.xlsx\")\n",
    "mixtral = pd.read_excel(\"Results/Mixtral_RAW.xlsx\")\n",
    "gemini = pd.read_excel(\"Results/Gemini_Pro_RAW.xlsx\")\n",
    "llama_nemotron = pd.read_excel(\"Results/Llama_Nemotron_RAW.xlsx\")\n",
    "llama_perplexity = pd.read_excel(\"Results/Llama_huge_Perplexity.xlsx\")\n",
    "\n",
    "\n",
    "# add the column 'halluzination' to the datasets\n",
    "for df in [gpt4omini, gpt4, gpt4o, llama, mixtral, gemini, llama_nemotron, llama_perplexity]:\n",
    "    if 'halluzination' not in df.columns:\n",
    "        df['halluzination'] = None\n",
    "        \n",
    "# Check if there are NaN values in the column 'De Facto Answer' and print the row numbers if there are any\n",
    "for df in [gpt4omini, gpt4, gpt4o, llama, mixtral, gemini, llama_nemotron, llama_perplexity]:\n",
    "    nan_rows = df[df['De Facto Answer'].isnull()].index.tolist()\n",
    "    if nan_rows:\n",
    "        print(f\"{df['Model'][0]} has NaN values in the 'De Facto Answer' column at rows: {nan_rows}\")\n"
   ]
  },
  {
   "cell_type": "code",
   "execution_count": null,
   "metadata": {},
   "outputs": [],
   "source": [
    "# add all datasets to one dataframe\n",
    "df_all_without_rag = pd.concat([gpt4omini, gpt4, gpt4o, llama, mixtral, gemini, llama_nemotron, llama_perplexity], ignore_index=True)\n"
   ]
  },
  {
   "cell_type": "code",
   "execution_count": null,
   "metadata": {},
   "outputs": [],
   "source": [
    "import json\n",
    "\n",
    "# Load the JSON file content\n",
    "json_path = 'Results_gpt-4o-2024-11-20_outputs.json'\n",
    "\n",
    "# Read the entire file content\n",
    "with open(json_path, 'r') as file:\n",
    "    content = file.read()\n",
    "\n",
    "# Fix JSON format by ensuring proper structure\n",
    "content = content.replace('\\n', '').replace('}{', '},{')\n",
    "content = f'[{content}]'\n",
    "\n",
    "# Load the cleaned JSON data\n",
    "data_list = json.loads(content)\n",
    "\n",
    "# Convert the list of JSON objects into a DataFrame\n",
    "df_json = pd.json_normalize(data_list)\n",
    "\n",
    "# Define the desired columns and their values\n",
    "columns = ['Question Number', 'Type', 'Question', 'Sample Answer According to Guideline', \n",
    "           'De Facto Answer', 'batch', 'Rater 1', 'Rater 2', 'Final Rating', 'Source', 'Model']\n",
    "\n",
    "# Create a DataFrame with the specified columns\n",
    "df_rag = pd.DataFrame(columns=columns)\n",
    "\n",
    "# Populate the DataFrame with the JSON data and the additional fixed values\n",
    "df_rag[\"Question Number\"] = np.nan\n",
    "df_rag['Type'] = np.nan\n",
    "df_rag['Question'] = df_json['Human Message'].explode().reset_index(drop=True)\n",
    "df_rag['Sample Answer According to Guideline'] = np.nan\n",
    "df_rag['De Facto Answer'] = df_json['AI Response'].explode().reset_index(drop=True)\n",
    "df_rag['batch'] = df_json['batch']\n",
    "df_rag[\"Rater 1\"] = \"\"\n",
    "df_rag[\"Rater 2\"] = \"\"\n",
    "df_rag[\"Final Rating\"] = \"\"\n",
    "df_rag[\"Source\"] = \"\"\n",
    "df_rag['Model'] = 'GPT-4o +RAG'\n",
    "\n",
    "\n",
    "\n",
    "\n",
    "print(df_rag.head())\n",
    "df_rag.to_excel(\"Results/GPT4oandRAG.xlsx\", index=False)\n"
   ]
  },
  {
   "cell_type": "code",
   "execution_count": null,
   "metadata": {},
   "outputs": [],
   "source": [
    "df_rag[['Question', 'Question Number', 'Type', 'Sample Answer According to Guideline']] = \\\n",
    "    llama_perplexity[['Question', 'Question Number', 'Type', 'Sample Answer According to Guideline']].values\n",
    "\n",
    "\n",
    "# Optionally, save the updated df_rag\n",
    "# df_rag.to_excel(\"Updated_GPT4oandRAG.xlsx\", index=False)\n",
    "#print the nan values in the updated columns of df_rag (Question Number, Type, Sample Answer According to Guideline)\n",
    "print(df_rag[df_rag['Question Number'].isnull()])\n",
    "print(df_rag[df_rag['Type'].isnull()])\n",
    "print(df_rag[df_rag['Sample Answer According to Guideline'].isnull()])\n",
    "\n",
    "print(\"Metadata successfully updated!\")\n",
    "df_rag.to_excel(\"Results/GPT4oandRAG.xlsx\", index=False)\n",
    "\n"
   ]
  },
  {
   "cell_type": "markdown",
   "metadata": {},
   "source": [
    "Final Dataset"
   ]
  },
  {
   "cell_type": "code",
   "execution_count": null,
   "metadata": {},
   "outputs": [],
   "source": [
    "df = pd.concat([df_all_without_rag, df_rag], ignore_index= True)\n",
    "df.to_excel(\"Results/All_Answers_Full_DF.xlsx\", index=False)\n"
   ]
  }
 ],
 "metadata": {
  "kernelspec": {
   "display_name": "new_venv",
   "language": "python",
   "name": "python3"
  },
  "language_info": {
   "codemirror_mode": {
    "name": "ipython",
    "version": 3
   },
   "file_extension": ".py",
   "mimetype": "text/x-python",
   "name": "python",
   "nbconvert_exporter": "python",
   "pygments_lexer": "ipython3",
   "version": "3.10.0"
  }
 },
 "nbformat": 4,
 "nbformat_minor": 2
}
